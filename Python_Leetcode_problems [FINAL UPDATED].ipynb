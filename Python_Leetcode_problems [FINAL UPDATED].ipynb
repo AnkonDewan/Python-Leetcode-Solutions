{
 "cells": [
  {
   "cell_type": "markdown",
   "id": "71836e9f",
   "metadata": {},
   "source": [
    "**Problem 1"
   ]
  },
  {
   "cell_type": "code",
   "execution_count": 12,
   "id": "96239669",
   "metadata": {},
   "outputs": [
    {
     "name": "stdout",
     "output_type": "stream",
     "text": [
      "39200\n"
     ]
    }
   ],
   "source": [
    "nums=[-100,-98,-1,2,3,4]\n",
    "\n",
    "#class Solution:\n",
    "    #def maximumProduct(self, nums: List[int]) -> int:\n",
    "nums= sorted(nums)\n",
    "\n",
    "nums_high = nums[-3:]\n",
    "nums_low = nums[0:3]\n",
    "results=[]\n",
    "\n",
    "prod_1= nums_high[0] * nums_high[1] * nums_high[2]\n",
    "prod_2= min(nums_low) * nums_low[1] * max(nums_high)\n",
    "\n",
    "results.append(prod_1)\n",
    "results.append(prod_2)\n",
    "print(max(results))"
   ]
  },
  {
   "cell_type": "markdown",
   "id": "ad5b5f45",
   "metadata": {},
   "source": [
    "**Problem 2"
   ]
  },
  {
   "cell_type": "code",
   "execution_count": 25,
   "id": "8097c235",
   "metadata": {},
   "outputs": [
    {
     "name": "stdout",
     "output_type": "stream",
     "text": [
      "17\n"
     ]
    }
   ],
   "source": [
    "accounts = [[2,8,7],[7,1,3],[1,9,5]]\n",
    "\n",
    "#class Solution:\n",
    "    #def maximumWealth(self, accounts: [[2,8,7],[7,1,3],[1,9,5]]) -> int:\n",
    "result=[]\n",
    "for i in range(len(accounts)):\n",
    "    wealth=0\n",
    "    for j in range(len(accounts[i])):\n",
    "        wealth = wealth + accounts[i][j-1]\n",
    "    result.append(wealth)\n",
    "print(max(result))"
   ]
  },
  {
   "cell_type": "markdown",
   "id": "1e7f4f6c",
   "metadata": {},
   "source": [
    "**Problem 3"
   ]
  },
  {
   "cell_type": "code",
   "execution_count": 26,
   "id": "aeb5851d",
   "metadata": {},
   "outputs": [
    {
     "name": "stdout",
     "output_type": "stream",
     "text": [
      "[1, 4, 2, 3, 3, 2, 4, 1]\n"
     ]
    }
   ],
   "source": [
    "nums=[1,2,3,4,4,3,2,1]\n",
    "#class Solution:\n",
    "    #def shuffle(self, nums: [1,2,3,4,4,3,2,1], n: int) -> List[int]:\n",
    "x=int(len(nums)/2)\n",
    "result=[]\n",
    "for i in range(0,x,1):\n",
    "    result.append(nums[0+i])\n",
    "    result.append(nums[x+i])\n",
    "print (result)"
   ]
  },
  {
   "cell_type": "markdown",
   "id": "71e07bcf",
   "metadata": {},
   "source": [
    "**Problem 4"
   ]
  },
  {
   "cell_type": "code",
   "execution_count": 3,
   "id": "14c6cdaa",
   "metadata": {},
   "outputs": [
    {
     "name": "stdout",
     "output_type": "stream",
     "text": [
      "True\n"
     ]
    }
   ],
   "source": [
    "num=16\n",
    "\n",
    "#class Solution:\n",
    "    #def isPerfectSquare(self, num: int) -> bool:\n",
    "        \n",
    "square_root= num**0.5\n",
    "square_root_int_only= int(square_root)\n",
    "\n",
    "print ( square_root_int_only == square_root )"
   ]
  },
  {
   "cell_type": "markdown",
   "id": "3a684ba0",
   "metadata": {},
   "source": [
    "**I replaced return() function with print() function and also commented the class & function declaring lines, after copying it from Leetcode. Otherwise it was running but was not showing any output."
   ]
  }
 ],
 "metadata": {
  "kernelspec": {
   "display_name": "Python 3",
   "language": "python",
   "name": "python3"
  },
  "language_info": {
   "codemirror_mode": {
    "name": "ipython",
    "version": 3
   },
   "file_extension": ".py",
   "mimetype": "text/x-python",
   "name": "python",
   "nbconvert_exporter": "python",
   "pygments_lexer": "ipython3",
   "version": "3.8.8"
  }
 },
 "nbformat": 4,
 "nbformat_minor": 5
}
